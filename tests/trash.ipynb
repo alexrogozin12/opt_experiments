{
 "cells": [
  {
   "cell_type": "code",
   "execution_count": 15,
   "metadata": {},
   "outputs": [],
   "source": [
    "import sys\n",
    "\n",
    "sys.path.append(\"../\")\n",
    "\n",
    "import numpy as np\n",
    "from oracles.minimization import QuadraticOracle, OracleLinearComb\n",
    "from methods.saddle import Logger\n",
    "from methods.minimization import DecentralizedGD\n",
    "from utils import gen_mix_mat\n",
    "\n",
    "%load_ext autoreload\n",
    "%autoreload 2"
   ]
  },
  {
   "cell_type": "code",
   "execution_count": 16,
   "metadata": {},
   "outputs": [
    {
     "data": {
      "text/plain": [
       "False"
      ]
     },
     "execution_count": 16,
     "metadata": {},
     "output_type": "execute_result"
    }
   ],
   "source": [
    "arr = np.arange(15).reshape(3, 5)\n",
    "np.all(arr.sum(axis=1) <= 40)"
   ]
  },
  {
   "cell_type": "code",
   "execution_count": 28,
   "metadata": {},
   "outputs": [
    {
     "data": {
      "text/plain": [
       "2.220446049250313e-16"
      ]
     },
     "execution_count": 28,
     "metadata": {},
     "output_type": "execute_result"
    }
   ],
   "source": [
    "import sys\n",
    "\n",
    "sys.path.append(\"../\")\n",
    "\n",
    "import numpy as np\n",
    "from oracles.minimization import QuadraticOracle, OracleLinearComb\n",
    "from methods.saddle import Logger\n",
    "from methods.minimization import DecentralizedGD\n",
    "from methods.minimization.logger import LoggerDecentralized\n",
    "from utils import gen_mix_mat\n",
    "\n",
    "\n",
    "np.random.seed(0)\n",
    "d = 20\n",
    "num_nodes = 10\n",
    "mix_mat = gen_mix_mat(num_nodes)\n",
    "max_iter = 1\n",
    "\n",
    "x_0 = np.random.rand(num_nodes * d).reshape(num_nodes, d)\n",
    "oracles = [QuadraticOracle(m / num_nodes * np.diag(np.ones(d)), np.zeros(d))\n",
    "           for m in range(1, num_nodes + 1)]\n",
    "\n",
    "logger = LoggerDecentralized()\n",
    "method = DecentralizedGD(\n",
    "    oracle_list=oracles,\n",
    "    stepsize=0.01,\n",
    "    mix_mat=mix_mat,\n",
    "    x_0=x_0,\n",
    "    logger=logger,\n",
    "    mix_mat_repr=\"simple\"\n",
    ")\n",
    "method.run(max_iter=max_iter)\n",
    "# assert np.all((method.x**2).sum(axis=1) <= 0.05)\n",
    "\n",
    "logger_kron = LoggerDecentralized()\n",
    "method_kron = DecentralizedGD(\n",
    "    oracle_list=oracles,\n",
    "    stepsize=0.01,\n",
    "    mix_mat=np.kron(mix_mat, np.eye(d).astype(np.float32)),\n",
    "    x_0=x_0,\n",
    "    logger=logger_kron,\n",
    "    mix_mat_repr=\"kronecker\"\n",
    ")\n",
    "method_kron.run(max_iter=max_iter)\n",
    "# assert np.all((method_kron.x**2).sum(axis=1) <= 0.05)\n",
    "\n",
    "# assert np.all(method.x == method_kron.x)\n",
    "np.abs(method_kron.x - method.x).max()"
   ]
  },
  {
   "cell_type": "code",
   "execution_count": 20,
   "metadata": {},
   "outputs": [
    {
     "data": {
      "text/plain": [
       "array([[0.5488135 , 0.71518937, 0.60276338, 0.54488318, 0.4236548 ,\n",
       "        0.64589411, 0.43758721, 0.891773  , 0.96366276, 0.38344152,\n",
       "        0.79172504, 0.52889492, 0.56804456, 0.92559664, 0.07103606,\n",
       "        0.0871293 , 0.0202184 , 0.83261985, 0.77815675, 0.87001215],\n",
       "       [0.97861834, 0.79915856, 0.46147936, 0.78052918, 0.11827443,\n",
       "        0.63992102, 0.14335329, 0.94466892, 0.52184832, 0.41466194,\n",
       "        0.26455561, 0.77423369, 0.45615033, 0.56843395, 0.0187898 ,\n",
       "        0.6176355 , 0.61209572, 0.616934  , 0.94374808, 0.6818203 ],\n",
       "       [0.3595079 , 0.43703195, 0.6976312 , 0.06022547, 0.66676672,\n",
       "        0.67063787, 0.21038256, 0.1289263 , 0.31542835, 0.36371077,\n",
       "        0.57019677, 0.43860151, 0.98837384, 0.10204481, 0.20887676,\n",
       "        0.16130952, 0.65310833, 0.2532916 , 0.46631077, 0.24442559],\n",
       "       [0.15896958, 0.11037514, 0.65632959, 0.13818295, 0.19658236,\n",
       "        0.36872517, 0.82099323, 0.09710128, 0.83794491, 0.09609841,\n",
       "        0.97645947, 0.4686512 , 0.97676109, 0.60484552, 0.73926358,\n",
       "        0.03918779, 0.28280696, 0.12019656, 0.2961402 , 0.11872772],\n",
       "       [0.31798318, 0.41426299, 0.0641475 , 0.69247212, 0.56660145,\n",
       "        0.26538949, 0.52324805, 0.09394051, 0.5759465 , 0.9292962 ,\n",
       "        0.31856895, 0.66741038, 0.13179786, 0.7163272 , 0.28940609,\n",
       "        0.18319136, 0.58651293, 0.02010755, 0.82894003, 0.00469548],\n",
       "       [0.67781654, 0.27000797, 0.73519402, 0.96218855, 0.24875314,\n",
       "        0.57615733, 0.59204193, 0.57225191, 0.22308163, 0.95274901,\n",
       "        0.44712538, 0.84640867, 0.69947928, 0.29743695, 0.81379782,\n",
       "        0.39650574, 0.8811032 , 0.58127287, 0.88173536, 0.69253159],\n",
       "       [0.72525428, 0.50132438, 0.95608363, 0.6439902 , 0.42385505,\n",
       "        0.60639321, 0.0191932 , 0.30157482, 0.66017354, 0.29007761,\n",
       "        0.61801543, 0.4287687 , 0.13547406, 0.29828233, 0.56996491,\n",
       "        0.59087276, 0.57432525, 0.65320082, 0.65210327, 0.43141844],\n",
       "       [0.8965466 , 0.36756187, 0.43586493, 0.89192336, 0.80619399,\n",
       "        0.70388858, 0.10022689, 0.91948261, 0.7142413 , 0.99884701,\n",
       "        0.1494483 , 0.86812606, 0.16249293, 0.61555956, 0.12381998,\n",
       "        0.84800823, 0.80731896, 0.56910074, 0.4071833 , 0.069167  ],\n",
       "       [0.69742877, 0.45354268, 0.7220556 , 0.86638233, 0.97552151,\n",
       "        0.85580334, 0.01171408, 0.35997806, 0.72999056, 0.17162968,\n",
       "        0.52103661, 0.05433799, 0.19999652, 0.01852179, 0.7936977 ,\n",
       "        0.22392469, 0.34535168, 0.92808129, 0.7044144 , 0.03183893],\n",
       "       [0.16469416, 0.6214784 , 0.57722859, 0.23789282, 0.934214  ,\n",
       "        0.61396596, 0.5356328 , 0.58990998, 0.73012203, 0.311945  ,\n",
       "        0.39822106, 0.20984375, 0.18619301, 0.94437239, 0.7395508 ,\n",
       "        0.49045881, 0.22741463, 0.25435648, 0.05802916, 0.43441663]])"
      ]
     },
     "execution_count": 20,
     "metadata": {},
     "output_type": "execute_result"
    }
   ],
   "source": [
    "x_0"
   ]
  },
  {
   "cell_type": "code",
   "execution_count": 21,
   "metadata": {},
   "outputs": [
    {
     "data": {
      "text/plain": [
       "2.220446049250313e-16"
      ]
     },
     "execution_count": 21,
     "metadata": {},
     "output_type": "execute_result"
    }
   ],
   "source": []
  },
  {
   "cell_type": "code",
   "execution_count": null,
   "metadata": {},
   "outputs": [],
   "source": []
  }
 ],
 "metadata": {
  "kernelspec": {
   "display_name": "Python 3",
   "language": "python",
   "name": "python3"
  },
  "language_info": {
   "codemirror_mode": {
    "name": "ipython",
    "version": 3
   },
   "file_extension": ".py",
   "mimetype": "text/x-python",
   "name": "python",
   "nbconvert_exporter": "python",
   "pygments_lexer": "ipython3",
   "version": "3.7.6"
  }
 },
 "nbformat": 4,
 "nbformat_minor": 4
}
