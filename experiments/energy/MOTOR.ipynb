{
 "cells": [
  {
   "cell_type": "code",
   "execution_count": 2,
   "id": "06a8dc6b",
   "metadata": {},
   "outputs": [],
   "source": [
    "import numpy as np\n",
    "import matplotlib.pyplot as plt"
   ]
  },
  {
   "cell_type": "code",
   "execution_count": 571,
   "id": "3e9d2f22",
   "metadata": {},
   "outputs": [
    {
     "name": "stdout",
     "output_type": "stream",
     "text": [
      "B [[-13.   2.   2.   0.   0.  10.]\n",
      " [  2. -12.   0.  10.   0.   0.]\n",
      " [  2.   0. -12.   0.  10.   0.]\n",
      " [  0.  10.   0. -20.  10.   0.]\n",
      " [  0.   0.  10.  10. -20.   0.]\n",
      " [ 10.   0.   0.   0.   0. -10.]]\n",
      "(6, 6)\n",
      "Flows [[  2.  -2.   0.   0.   0.   0.]\n",
      " [  2.   0.  -2.   0.   0.   0.]\n",
      " [  0.  10.   0. -10.   0.   0.]\n",
      " [  0.   0.  10.   0. -10.   0.]\n",
      " [  0.   0.   0.  10. -10.   0.]\n",
      " [ 10.   0.   0.   0.   0. -10.]]\n",
      "W0 (for 1D variable)\n",
      " [[ 3. -1. -1.  0.  0. -1.]\n",
      " [-1.  2.  0. -1.  0.  0.]\n",
      " [-1.  0.  2.  0. -1.  0.]\n",
      " [ 0. -1.  0.  2. -1.  0.]\n",
      " [ 0.  0. -1. -1.  2.  0.]\n",
      " [-1.  0.  0.  0.  0.  1.]]\n"
     ]
    },
    {
     "name": "stderr",
     "output_type": "stream",
     "text": [
      "/tmp/ipykernel_85231/3314653346.py:26: RuntimeWarning: divide by zero encountered in true_divide\n",
      "  B = -1/X\n"
     ]
    }
   ],
   "source": [
    "nodes = 6\n",
    "gens = 2\n",
    "\n",
    "gens_on_nodes = [0, 4]\n",
    "\n",
    "\n",
    "fs = [lambda x : 0 for _ in range(nodes)]\n",
    "fs[0] = lambda x: 0.67 * x[1] ** 2 + 26.24 * x[1] + 31.67\n",
    "fs[4] = lambda x: 0.11 * x[1] ** 2 + 12.89 * x[1] + 6.78\n",
    "\n",
    "\n",
    "dfs = [lambda x : np.zeros(len(x)) for _ in range(nodes)]\n",
    "dfs[0] = lambda x: np.array([0, 2 * 0.67 * x[1] + 26.24])\n",
    "dfs[4] = lambda x: np.array([0, 2 * 0.11 * x[1] + 12.89])\n",
    "\n",
    "X = np.zeros((nodes, nodes))\n",
    "X[0][1] = 0.6\n",
    "X[0][2] = 0.6\n",
    "X[1][3] = 0.1\n",
    "X[2][4] = 0.1\n",
    "X[3][4] = 0.1\n",
    "X[0][5] = 0.1\n",
    "X += X.T\n",
    "\n",
    "\n",
    "B = -1/X\n",
    "\n",
    "gens_bounds = [[20, 50], [200, 200]]\n",
    "bounds_x = np.hstack(([[None]*nodes, [None]*nodes], gens_bounds))\n",
    "\n",
    "np.nan_to_num(B, False, 0, 0, 0)\n",
    "\n",
    "W0 = (B != 0) + 0.0\n",
    "# W0 = np.ones(B.shape)\n",
    "W0 = np.diag(W0.sum(axis=0)) - W0\n",
    "\n",
    "B = np.diag(B.sum(axis=0)) - B  # admittance matrix\n",
    "print('B', np.round(B))\n",
    "\n",
    "G = np.zeros((nodes, gens))  # G_ij == 1 => gen # j on i'th node\n",
    "gen_index = 0 \n",
    "for i in gens_on_nodes:\n",
    "    G[i][gen_index] = 1\n",
    "    gen_index += 1\n",
    "        \n",
    "# G[0][0] = 1\n",
    "# G[4][1] = 1\n",
    "\n",
    "demand = np.zeros(nodes) # power demand\n",
    "demand[2] = demand[3] = 150\n",
    "demand[5] = 10\n",
    "\n",
    "Flows = [] \n",
    "for i in range(nodes):\n",
    "    for j in range(i):\n",
    "        if B[i][j] != 0:\n",
    "            Flows.append([0] * nodes)\n",
    "            Flows[-1][i] = -B[i][j]\n",
    "            Flows[-1][j] = B[i][j]\n",
    "            \n",
    "\n",
    "Flows = np.array(Flows)           \n",
    "           \n",
    "print(Flows.shape)\n",
    "print('Flows', np.round(Flows))\n",
    "\n",
    "# matrix for | (\\teta_i - \\teta_j) / X_ij | \\leq F^max_ij constraint           \n",
    "F = np.hstack((Flows, np.zeros((Flows.shape[0], gens))))\n",
    "\n",
    "fmax = np.array([150] * F.shape[0])  # max flow\n",
    "\n",
    "# subsystems flows bounds:\n",
    "# case-2 partition\n",
    "\n",
    "\n",
    "\n",
    "\n",
    "\n",
    "# Extended Laplacian:\n",
    "print('W0 (for 1D variable)\\n', W0)\n",
    "            \n",
    "def f_(x):\n",
    "    p1, p2 = x[-gens:]\n",
    "    return 0.67 * p1 ** 2 + 26.24 * p1 + 31.67 + 0.11 * p2 ** 2 + 12.89 * p2 + 6.78\n",
    "\n",
    "def df_(x):\n",
    "    p1, p2 = x[-gens:]\n",
    "    return [0]* nodes + [2 * 0.67 * p1 + 26.24, 2 * 0.11 * p2 + 12.89]\n",
    "\n",
    "# As = "
   ]
  },
  {
   "cell_type": "code",
   "execution_count": 572,
   "id": "d02f5a8e",
   "metadata": {},
   "outputs": [
    {
     "ename": "ValueError",
     "evalue": "operands could not be broadcast together with shapes (6,) (12,) ",
     "output_type": "error",
     "traceback": [
      "\u001b[0;31m---------------------------------------------------------------------------\u001b[0m",
      "\u001b[0;31mValueError\u001b[0m                                Traceback (most recent call last)",
      "\u001b[0;32m/tmp/ipykernel_85231/168853520.py\u001b[0m in \u001b[0;36m<module>\u001b[0;34m\u001b[0m\n\u001b[1;32m      5\u001b[0m \u001b[0;34m\u001b[0m\u001b[0m\n\u001b[1;32m      6\u001b[0m \u001b[0mgen_solution\u001b[0m \u001b[0;34m=\u001b[0m \u001b[0mnp\u001b[0m\u001b[0;34m.\u001b[0m\u001b[0marray\u001b[0m\u001b[0;34m(\u001b[0m\u001b[0;34m[\u001b[0m\u001b[0;36m110\u001b[0m\u001b[0;34m,\u001b[0m \u001b[0;36m0\u001b[0m\u001b[0;34m,\u001b[0m \u001b[0;36m0\u001b[0m\u001b[0;34m,\u001b[0m \u001b[0;36m0\u001b[0m\u001b[0;34m,\u001b[0m \u001b[0;36m200\u001b[0m\u001b[0;34m,\u001b[0m \u001b[0;36m0\u001b[0m\u001b[0;34m]\u001b[0m\u001b[0;34m)\u001b[0m\u001b[0;34m\u001b[0m\u001b[0;34m\u001b[0m\u001b[0m\n\u001b[0;32m----> 7\u001b[0;31m \u001b[0mb_\u001b[0m \u001b[0;34m=\u001b[0m \u001b[0mnp\u001b[0m\u001b[0;34m.\u001b[0m\u001b[0mhstack\u001b[0m\u001b[0;34m(\u001b[0m\u001b[0;34m(\u001b[0m\u001b[0mgen_solution\u001b[0m \u001b[0;34m-\u001b[0m \u001b[0md\u001b[0m\u001b[0;34m)\u001b[0m\u001b[0;34m)\u001b[0m\u001b[0;34m\u001b[0m\u001b[0;34m\u001b[0m\u001b[0m\n\u001b[0m\u001b[1;32m      8\u001b[0m \u001b[0;31m# B_ = np.vstack((B, e1))\u001b[0m\u001b[0;34m\u001b[0m\u001b[0;34m\u001b[0m\u001b[0m\n\u001b[1;32m      9\u001b[0m \u001b[0;34m\u001b[0m\u001b[0m\n",
      "\u001b[0;31mValueError\u001b[0m: operands could not be broadcast together with shapes (6,) (12,) "
     ]
    }
   ],
   "source": [
    "# check satisfiability of DC-PF constraint\n",
    "\n",
    "e1 = np.zeros(nodes)\n",
    "e1[0] = 1\n",
    "\n",
    "gen_solution = np.array([110, 0, 0, 0, 200, 0])\n",
    "b_ = np.hstack((gen_solution - d))\n",
    "# B_ = np.vstack((B, e1))\n",
    "\n",
    "B_ = B.copy()  # the system is singular: sum of rows = 0, so replace i'th (random) row with \\theta_i = 0 constraint\n",
    "B_[0] = e1\n",
    "b_[0] = 0\n",
    "\n",
    "# print(b_.shape, B_.shape)\n",
    "x = np.linalg.solve(B_ , b_)\n",
    "np.round(x)\n",
    "\n",
    "# np.round(B @ x), b, np.round(B_ @ x)"
   ]
  },
  {
   "cell_type": "code",
   "execution_count": 573,
   "id": "48b5b788",
   "metadata": {},
   "outputs": [
    {
     "name": "stdout",
     "output_type": "stream",
     "text": [
      "[  -0.   -0. -150. -150.   -0.  -10.  150.  150.  150.  150.  150.  150.\n",
      "  150.  150.  150.  150.  150.  150.]\n",
      "[[0, 6, 7, 11, 12, 13, 17], [1, 8, 14], [2, 9, 15], [3, 10, 16], [4], [5]]\n"
     ]
    }
   ],
   "source": [
    "BG = np.hstack((B, -G)) # matrix for dc-power flow constraint\n",
    "A = BG\n",
    "b = -demand\n",
    "\n",
    "C = np.vstack((F, -F))\n",
    "d = np.hstack((fmax, fmax))\n",
    "\n",
    "AC = np.vstack((A, C))\n",
    "bd = np.hstack((b, d))\n",
    "\n",
    "nodes_to_var_indices = [[i] for i in range(nodes)] \n",
    "gen_index = 0 \n",
    "for i in gens_on_nodes:\n",
    "    nodes_to_var_indices[i] = [i, nodes+gen_index]\n",
    "    gen_index += 1\n",
    "    \n",
    "ACs = [AC[:, indices] for indices in nodes_to_var_indices]\n",
    "\n",
    "# assign elements of bd to nodes\n",
    "nodes_to_bd_indices = [[i] for i in range(nodes)]\n",
    "for i in range(C.shape[0]):\n",
    "    row = C[i]\n",
    "#     print(np.round(row), np.where(row)[0][0])\n",
    "    # assign to node with smaller index (try change)\n",
    "    nodes_to_bd_indices[np.where(row)[0][0]].append(A.shape[0] + i)\n",
    "    \n",
    "print(bd)\n",
    "print(nodes_to_bd_indices)\n",
    "\n",
    "    \n",
    "bds = []\n",
    "for i in range(nodes):\n",
    "    mask = np.zeros(len(bd))\n",
    "    mask[nodes_to_bd_indices[i]] = 1\n",
    "    bds.append(bd * mask)\n",
    "    \n",
    "assert(np.all(sum(bds) == bd))\n",
    "# bd = bd_"
   ]
  },
  {
   "cell_type": "code",
   "execution_count": 574,
   "id": "45411049",
   "metadata": {},
   "outputs": [
    {
     "data": {
      "text/plain": [
       "((108, 108), (108,))"
      ]
     },
     "execution_count": 574,
     "metadata": {},
     "output_type": "execute_result"
    }
   ],
   "source": [
    "# i = 0\n",
    "# ACs[i] @ get_xi(x, i) - get_bdi(bd, i)\n",
    "W.shape, z.shape"
   ]
  },
  {
   "cell_type": "code",
   "execution_count": 575,
   "id": "9e8b19fe",
   "metadata": {},
   "outputs": [
    {
     "data": {
      "text/plain": [
       "(17857.55639096769, 17857.55639096769)"
      ]
     },
     "execution_count": 575,
     "metadata": {},
     "output_type": "execute_result"
    }
   ],
   "source": [
    "f(x), f_(x)"
   ]
  },
  {
   "cell_type": "code",
   "execution_count": 590,
   "id": "7b94c602",
   "metadata": {},
   "outputs": [
    {
     "name": "stdout",
     "output_type": "stream",
     "text": [
      "[-17.56998097  10.50480724  14.28895868  15.08464146   4.65181126\n",
      " -16.59543923 109.97482338 200.        ]\n",
      "[173.59232263 170.00316198 177.06180863 169.54617886 178.11252334\n",
      " 173.61326378   0.           0.           0.           0.\n",
      "   0.           0.           0.           0.           0.\n",
      "   0.           0.           0.         173.39566742 170.64056771\n",
      " 177.46017437 170.21253532 176.26937374 173.66038403   0.\n",
      "   0.           0.           0.           0.           0.\n",
      "   0.           0.           0.           0.           0.\n",
      "   0.         173.78342119 169.45414022 176.57421393 171.15272064\n",
      " 177.0138477  173.66038403   0.           0.           0.\n",
      "   0.           0.           0.           0.           0.\n",
      "   0.           0.           0.           0.         173.49547709\n",
      " 169.73351366 177.60600436 172.19889796 174.68008472 173.70126265\n",
      "   0.           0.           0.           0.           0.\n",
      "   0.           0.           0.           0.           0.\n",
      "   0.           0.         173.69034173 169.29464837 177.31244714\n",
      " 172.50196973 174.91458635 173.70126265   0.           0.\n",
      "   0.           0.           0.           0.           0.\n",
      "   0.           0.           0.           0.           0.\n",
      " 173.56544633 169.73977617 177.30391142 168.19197983 180.00603445\n",
      " 173.56515939   0.           0.           0.           0.\n",
      "   0.           0.           0.           0.           0.\n",
      "   0.           0.           0.        ]\n",
      "grads\n"
     ]
    },
    {
     "data": {
      "text/plain": [
       "array([[  -0.,   -1., -149., -150.,    1.,  -10.],\n",
       "       [   0.,    0.,  150.,  150.,    0.,   10.]])"
      ]
     },
     "execution_count": 590,
     "metadata": {},
     "output_type": "execute_result"
    }
   ],
   "source": [
    "# Ax - b constraint, BG - equality-type, F - inequaltiy-type\n",
    "# A = np.vstack((BG, F, -F)) \n",
    "# b = np.hstack((-demand, fmax, fmax))\n",
    "\n",
    "\n",
    "x_dim = nodes + gens\n",
    "# x0 = np.array([0] * nodes + [100, 100] )\n",
    "\n",
    "x = np.zeros(x_dim)\n",
    "num_cons = AC.shape[0]\n",
    "y = np.zeros(num_cons)\n",
    "W = np.kron(W0, np.diag(np.ones(y.size)))\n",
    "assert(np.all(W == W.T))\n",
    "\n",
    "blowed_y = np.zeros(y.shape[0] * nodes)\n",
    "z = np.zeros(np.shape(blowed_y))\n",
    "\n",
    "h = 0.03\n",
    "\n",
    "xs = []\n",
    "x_s = []\n",
    "\n",
    "bounds_y = [[None]*BG.shape[0] + [0] * (2 * F.shape[0]), [None]*AC.shape[0]]\n",
    "y = blowed_y\n",
    "bounds_y_blowed = [bounds_y[0] * nodes, bounds_y[1] * nodes]\n",
    "\n",
    "def get_yi(y, i):\n",
    "    return y[num_cons*i : num_cons*(i+1)]\n",
    "\n",
    "def get_xi(x, i):\n",
    "    return x[nodes_to_var_indices[i]]\n",
    "\n",
    "def f(x):\n",
    "    return sum([fs[i](get_xi(x, i)) for i in range(nodes)])\n",
    "\n",
    "def df(x):\n",
    "    grad = np.zeros(len(x))\n",
    "    for i in range(nodes):\n",
    "        indices = nodes_to_var_indices[i]\n",
    "        grad[indices] = dfs[i](x[indices]) \n",
    "    return grad\n",
    "\n",
    "def dLx(x, y):\n",
    "    grad = df(x)\n",
    "    for i in range(nodes):\n",
    "        indices = nodes_to_var_indices[i]\n",
    "        grad[indices] +=  ACs[i].T @ get_yi(y, i)\n",
    "#         print(i, indices, grad[indices], grad)\n",
    "    return grad\n",
    "#     return df(x) + AC.T @ y\n",
    "\n",
    "def dLy(x, y, z):\n",
    "    return np.hstack([ACs[i] @ get_xi(x, i) - bds[i] for i in range(nodes)]) + W @ z\n",
    "                     \n",
    "def dLz(y, z):\n",
    "    return W @ y\n",
    "    \n",
    "#     return AC @ x - bd\n",
    "\n",
    "def proj(x, bounds):\n",
    "    a_min = [-np.inf if x is None else x for x in bounds[0]]\n",
    "    a_max = [np.inf if x is None else x for x in bounds[1]]\n",
    "    return np.clip(x, a_min, a_max)\n",
    "    \n",
    "def proj_x(x):\n",
    "    return proj(x, bounds_x)\n",
    "\n",
    "def proj_y(x):\n",
    "    return proj(x, bounds_y_blowed)\n",
    "\n",
    "\n",
    "# while not crit(x):\n",
    "#     while not x_s or not np.allclose(sum(x_s)/ len(x_s), a0):\n",
    "fs_log = []\n",
    "fs_log_erg = []\n",
    "cons = []\n",
    "cons_erg = []\n",
    "x_ergs = []\n",
    "ys = []\n",
    "for k in range(15000):\n",
    "    x_ = proj_x(x - h * dLx(x, y))\n",
    "    x_s.append(x_)\n",
    "    y_ = proj_y(y + h * dLy(x, y, z))\n",
    "    z_ = z - h * dLz(y, z)\n",
    "    \n",
    "    \n",
    "    x_ergs.append(x_ergs[-1] + x_ if k > 0 else x_)\n",
    "    \n",
    "    x = proj_x(x - h * dLx(x_, y_))\n",
    "    y = proj_y(y + h * dLy(x_, y_, z_))\n",
    "    z = z - h * dLz(y_, z_)\n",
    "    \n",
    "    \n",
    "    fs_log.append(f(x))\n",
    "    x_erg = x_ergs[-1] / (k + 1)\n",
    "    fs_log_erg.append(f(x_erg))\n",
    "    cons.append(np.linalg.norm(np.hstack((A@ x - b, np.clip(C@x - d, 0, None)))))\n",
    "    cons_erg.append(np.linalg.norm(np.hstack((A@ x_erg - b, np.clip(C@x_erg - d, 0, None)))))\n",
    "    \n",
    "    xs += [x]\n",
    "    ys += [y]\n",
    "\n",
    "    i += 1\n",
    "#         print(sum(x_s) / len(x_s), x)\n",
    "# print('iters:', i)\n",
    "print(x, y, sep='\\n')\n",
    "assert(np.round(f(x), 4) == np.round(f_(x), 4))\n",
    "assert(np.all(np.round(df(x), 4) == np.round(df_(x), 4)))\n",
    "print('grads')\n",
    "# print(dLx(x,y), dLy(x,y), sep='\\n')\n",
    "# return i, x, y, z\n",
    "\n",
    "np.array([np.round(BG @ x) , demand])"
   ]
  },
  {
   "cell_type": "code",
   "execution_count": 591,
   "id": "9bb2a11b",
   "metadata": {},
   "outputs": [
    {
     "data": {
      "text/plain": [
       "5.29668077059912"
      ]
     },
     "execution_count": 591,
     "metadata": {},
     "output_type": "execute_result"
    }
   ],
   "source": [
    "np.linalg.norm(W @ y)"
   ]
  },
  {
   "cell_type": "code",
   "execution_count": 592,
   "id": "27587794",
   "metadata": {},
   "outputs": [
    {
     "data": {
      "text/plain": [
       "<matplotlib.legend.Legend at 0x7f3b12fb3730>"
      ]
     },
     "execution_count": 592,
     "metadata": {},
     "output_type": "execute_result"
    },
    {
     "data": {
      "image/png": "[encoded data removed]",
      "text/plain": [
       "<Figure size 432x288 with 1 Axes>"
      ]
     },
     "metadata": {
      "needs_background": "light"
     },
     "output_type": "display_data"
    }
   ],
   "source": [
    "start = 0\n",
    "plt.plot(cons[start:], label='last_iterate')\n",
    "plt.plot(cons_erg[start:], label='erg')\n",
    "plt.legend()\n",
    "# plt.xlim(4000, None)\n",
    "# plt.ylim(0, 10)"
   ]
  },
  {
   "cell_type": "code",
   "execution_count": 593,
   "id": "76336377",
   "metadata": {},
   "outputs": [
    {
     "data": {
      "text/plain": [
       "<matplotlib.legend.Legend at 0x7f3b15b3dab0>"
      ]
     },
     "execution_count": 593,
     "metadata": {},
     "output_type": "execute_result"
    },
    {
     "data": {
      "image/png": "[encoded data removed]",
      "text/plain": [
       "<Figure size 432x288 with 1 Axes>"
      ]
     },
     "metadata": {
      "needs_background": "light"
     },
     "output_type": "display_data"
    }
   ],
   "source": [
    "plt.plot(fs_log[start:], label='last_iterate')\n",
    "plt.plot(fs_log_erg[start:], label='erg')\n",
    "plt.legend()\n"
   ]
  },
  {
   "cell_type": "code",
   "execution_count": 197,
   "id": "57673e1c",
   "metadata": {},
   "outputs": [
    {
     "name": "stdout",
     "output_type": "stream",
     "text": [
      "`gtol` termination condition is satisfied.\n",
      "Number of iterations: 9, function evaluations: 8, CG iterations: 7, optimality: 6.35e-11, constraint violation: 5.68e-14, execution time: 0.037 s.\n"
     ]
    }
   ],
   "source": [
    "from scipy.optimize import minimize, LinearConstraint, Bounds\n",
    "x_dim = nodes + gens\n",
    "bounds = Bounds([-np.pi * 20]*nodes + [20, 50], [np.pi * 20]*nodes + [200, 200])\n",
    "x0 = np.array([0] * nodes + [100, 100] )\n",
    "\n",
    "BG = np.hstack((B, -G))\n",
    "dc_pf_constraint = LinearConstraint(BG, -D, -D) \n",
    "flow_constraint = LinearConstraint(F, -fmax, fmax) \n",
    "\n",
    "e1 = np.zeros(x_dim)\n",
    "e1[0] = 1\n",
    "teta_ref_constraint = LinearConstraint(e1, [0], [0]) \n",
    "res = minimize(f, x0, method='trust-constr', jac=df,\n",
    "               constraints=[dc_pf_constraint, flow_constraint, teta_ref_constraint],\n",
    "#                constraints=[flow_constraint],\n",
    "               options={'verbose': 1, 'maxiter': 100}, bounds=bounds)"
   ]
  },
  {
   "cell_type": "code",
   "execution_count": 148,
   "id": "31675dac",
   "metadata": {},
   "outputs": [
    {
     "data": {
      "text/plain": [
       " barrier_parameter: 0.020000000000000004\n",
       " barrier_tolerance: 0.020000000000000004\n",
       "          cg_niter: 7\n",
       "      cg_stop_cond: 1\n",
       "            constr: [array([-1.42108547e-14, -5.67693951e-14, -1.50000000e+02, -1.50000000e+02,\n",
       "        5.68434189e-14, -1.00000000e+01]), array([-46.66674661, -53.3334247 , -46.66674661,  96.6665753 ,\n",
       "       103.33325339, -10.        ]), array([4.44142332e-17]), array([4.44142332e-17, 2.80000480e+01, 3.20000548e+01, 3.26667226e+01,\n",
       "       2.23333973e+01, 1.00000000e+00, 1.10000171e+02, 1.99999829e+02])]\n",
       "       constr_nfev: [0, 0, 0, 0]\n",
       "       constr_nhev: [0, 0, 0, 0]\n",
       "       constr_njev: [0, 0, 0, 0]\n",
       "    constr_penalty: 1.0\n",
       "  constr_violation: 5.684341886080802e-14\n",
       "    execution_time: 0.028944015502929688\n",
       "               fun: 18009.870000270606\n",
       "              grad: array([  0.        ,   0.        ,   0.        ,   0.        ,\n",
       "         0.        ,   0.        , 173.64022955,  56.88996231])\n",
       "               jac: [array([[-13.33333333,   1.66666667,   1.66666667,   0.        ,\n",
       "          0.        ,  10.        ,  -1.        ,  -0.        ],\n",
       "       [  1.66666667, -11.66666667,   0.        ,  10.        ,\n",
       "          0.        ,   0.        ,  -0.        ,  -0.        ],\n",
       "       [  1.66666667,   0.        , -11.66666667,   0.        ,\n",
       "         10.        ,   0.        ,  -0.        ,  -0.        ],\n",
       "       [  0.        ,  10.        ,   0.        , -20.        ,\n",
       "         10.        ,   0.        ,  -0.        ,  -0.        ],\n",
       "       [  0.        ,   0.        ,  10.        ,  10.        ,\n",
       "        -20.        ,   0.        ,  -0.        ,  -1.        ],\n",
       "       [ 10.        ,   0.        ,   0.        ,   0.        ,\n",
       "          0.        , -10.        ,  -0.        ,  -0.        ]]), array([[  1.66666667,  -1.66666667,   0.        ,   0.        ,\n",
       "          0.        ,   0.        ,   0.        ,   0.        ],\n",
       "       [  1.66666667,   0.        ,  -1.66666667,   0.        ,\n",
       "          0.        ,   0.        ,   0.        ,   0.        ],\n",
       "       [  0.        ,  10.        ,   0.        , -10.        ,\n",
       "          0.        ,   0.        ,   0.        ,   0.        ],\n",
       "       [  0.        ,   0.        ,  10.        ,   0.        ,\n",
       "        -10.        ,   0.        ,   0.        ,   0.        ],\n",
       "       [  0.        ,   0.        ,   0.        ,  10.        ,\n",
       "        -10.        ,   0.        ,   0.        ,   0.        ],\n",
       "       [ 10.        ,   0.        ,   0.        ,   0.        ,\n",
       "          0.        , -10.        ,   0.        ,   0.        ]]), array([[1., 0., 0., 0., 0., 0., 0., 0.]]), array([[1., 0., 0., 0., 0., 0., 0., 0.],\n",
       "       [0., 1., 0., 0., 0., 0., 0., 0.],\n",
       "       [0., 0., 1., 0., 0., 0., 0., 0.],\n",
       "       [0., 0., 0., 1., 0., 0., 0., 0.],\n",
       "       [0., 0., 0., 0., 1., 0., 0., 0.],\n",
       "       [0., 0., 0., 0., 0., 1., 0., 0.],\n",
       "       [0., 0., 0., 0., 0., 0., 1., 0.],\n",
       "       [0., 0., 0., 0., 0., 0., 0., 1.]])]\n",
       "   lagrangian_grad: array([ 8.77179026e-13,  1.80567807e-11,  1.98495219e-11,  2.02670251e-11,\n",
       "        2.40834875e-11,  6.41717528e-13,  6.32964266e-11, -6.35083097e-11])\n",
       "           message: '`gtol` termination condition is satisfied.'\n",
       "            method: 'tr_interior_point'\n",
       "              nfev: 8\n",
       "              nhev: 0\n",
       "               nit: 9\n",
       "             niter: 9\n",
       "              njev: 8\n",
       "        optimality: 6.350830972223775e-11\n",
       "            status: 1\n",
       "           success: True\n",
       "         tr_radius: 1714.9999999999998\n",
       "                 v: [array([173.64022955, 173.6407638 , 173.64079833, 173.64089399,\n",
       "       173.64053734, 173.64024842]), array([-9.18536629e-05, -1.08536136e-04, -9.18536629e-05,  2.93918246e-04,\n",
       "        3.49623301e-04, -1.78571429e-05]), array([-0.00151452]), array([1.53463397e-15, 3.54000912e-04, 4.37781465e-04, 4.53589982e-04,\n",
       "       2.59008425e-04, 1.01346855e-05, 8.45945039e-10, 1.16750575e+02])]\n",
       "                 x: array([4.44142332e-17, 2.80000480e+01, 3.20000548e+01, 3.26667226e+01,\n",
       "       2.23333973e+01, 1.00000000e+00, 1.10000171e+02, 1.99999829e+02])"
      ]
     },
     "execution_count": 148,
     "metadata": {},
     "output_type": "execute_result"
    }
   ],
   "source": [
    "res"
   ]
  },
  {
   "cell_type": "code",
   "execution_count": 60,
   "id": "db5069bd",
   "metadata": {},
   "outputs": [
    {
     "data": {
      "text/plain": [
       "array([[   0.,    0., -150., -150.,    0.,  -10.],\n",
       "       [   0.,    0.,  150.,  150.,    0.,   10.]])"
      ]
     },
     "execution_count": 60,
     "metadata": {},
     "output_type": "execute_result"
    }
   ],
   "source": [
    "np.array([np.round(BG @ res.x) , D])"
   ]
  },
  {
   "cell_type": "code",
   "execution_count": 184,
   "id": "dc7f86ec",
   "metadata": {},
   "outputs": [],
   "source": [
    "dc_pf_constraint = {'type': 'eq', 'fun':lambda x : BG @ x + D, 'jac': lambda x:BG}\n",
    "teta_ref_constraint = {'type': 'eq', 'fun':lambda x : e1 @ x, 'jac': lambda x:e1}\n",
    "res = minimize(f, x0, method='SLSQP', jac=df,\n",
    "               constraints=[dc_pf_constraint],\n",
    "#                constraints=[flow_constraint],\n",
    "                bounds=bounds)\n",
    "\n"
   ]
  },
  {
   "cell_type": "code",
   "execution_count": 185,
   "id": "92a176e8",
   "metadata": {},
   "outputs": [
    {
     "data": {
      "text/plain": [
       "     fun: 10434.52981184437\n",
       "     jac: array([  0.        ,   0.        ,   0.        ,   0.        ,\n",
       "         0.        ,   0.        , 110.97223213,  53.21308023])\n",
       " message: 'Positive directional derivative for linesearch'\n",
       "    nfev: 41\n",
       "     nit: 14\n",
       "    njev: 10\n",
       "  status: 8\n",
       " success: False\n",
       "       x: array([  2.71868595,   3.08117741,   3.1329619 ,   3.14159265,\n",
       "        -3.14159265,   3.14159265,  63.23300905, 183.28672832])"
      ]
     },
     "execution_count": 185,
     "metadata": {},
     "output_type": "execute_result"
    }
   ],
   "source": [
    "res"
   ]
  },
  {
   "cell_type": "code",
   "execution_count": 181,
   "id": "01d2199f",
   "metadata": {},
   "outputs": [
    {
     "data": {
      "text/plain": [
       "array([[-58.,  -0., -63., -63., -58.,  -4.],\n",
       "       [  0.,   0., 150., 150.,   0.,  10.]])"
      ]
     },
     "execution_count": 181,
     "metadata": {},
     "output_type": "execute_result"
    }
   ],
   "source": [
    "np.array([np.round(BG @ res.x) , D])"
   ]
  },
  {
   "cell_type": "code",
   "execution_count": 180,
   "id": "b45280a7",
   "metadata": {},
   "outputs": [
    {
     "data": {
      "text/plain": [
       "(array([-0.,  0.,  0.,  0.,  0.,  0., -1., -1.]), -310.0)"
      ]
     },
     "execution_count": 180,
     "metadata": {},
     "output_type": "execute_result"
    }
   ],
   "source": [
    "np.round(BG[:,:].sum(axis=0)) , -D.sum()"
   ]
  },
  {
   "cell_type": "code",
   "execution_count": 21,
   "id": "0e19e3f9",
   "metadata": {},
   "outputs": [
    {
     "data": {
      "text/plain": [
       "array([[inf,  0.,  0.,  0.,  0.,  0.],\n",
       "       [ 0., inf,  0.,  0.,  0.,  0.],\n",
       "       [ 0.,  0., inf,  0.,  0.,  0.],\n",
       "       [ 0.,  0.,  0., inf,  0.,  0.],\n",
       "       [ 0.,  0.,  0.,  0., inf,  0.],\n",
       "       [ 0.,  0.,  0.,  0.,  0., inf]])"
      ]
     },
     "execution_count": 21,
     "metadata": {},
     "output_type": "execute_result"
    }
   ],
   "source": [
    "np.diag(X.sum(axis=1))"
   ]
  }
 ],
 "metadata": {
  "kernelspec": {
   "display_name": "Python 3 (ipykernel)",
   "language": "python",
   "name": "python3"
  },
  "language_info": {
   "codemirror_mode": {
    "name": "ipython",
    "version": 3
   },
   "file_extension": ".py",
   "mimetype": "text/x-python",
   "name": "python",
   "nbconvert_exporter": "python",
   "pygments_lexer": "ipython3",
   "version": "3.10.2"
  }
 },
 "nbformat": 4,
 "nbformat_minor": 5
}
