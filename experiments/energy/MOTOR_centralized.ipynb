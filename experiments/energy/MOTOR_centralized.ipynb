{
 "cells": [
  {
   "cell_type": "code",
   "execution_count": 19,
   "id": "06a8dc6b",
   "metadata": {},
   "outputs": [],
   "source": [
    "import numpy as np\n",
    "import matplotlib.pyplot as plt"
   ]
  },
  {
   "cell_type": "code",
   "execution_count": 20,
   "id": "3e9d2f22",
   "metadata": {},
   "outputs": [
    {
     "name": "stdout",
     "output_type": "stream",
     "text": [
      "B [[-13.   2.   2.   0.   0.  10.]\n",
      " [  2. -12.   0.  10.   0.   0.]\n",
      " [  2.   0. -12.   0.  10.   0.]\n",
      " [  0.  10.   0. -20.  10.   0.]\n",
      " [  0.   0.  10.  10. -20.   0.]\n",
      " [ 10.   0.   0.   0.   0. -10.]]\n",
      "(6, 6)\n",
      "Flows [[  2.  -2.   0.   0.   0.   0.]\n",
      " [  2.   0.  -2.   0.   0.   0.]\n",
      " [  0.  10.   0. -10.   0.   0.]\n",
      " [  0.   0.  10.   0. -10.   0.]\n",
      " [  0.   0.   0.  10. -10.   0.]\n",
      " [ 10.   0.   0.   0.   0. -10.]]\n",
      "W0 (for 1D varible) [[ 3. -1. -1.  0.  0. -1.]\n",
      " [-1.  2.  0. -1.  0.  0.]\n",
      " [-1.  0.  2.  0. -1.  0.]\n",
      " [ 0. -1.  0.  2. -1.  0.]\n",
      " [ 0.  0. -1. -1.  2.  0.]\n",
      " [-1.  0.  0.  0.  0.  1.]]\n"
     ]
    },
    {
     "name": "stderr",
     "output_type": "stream",
     "text": [
      "/tmp/ipykernel_111015/348298839.py:26: RuntimeWarning: divide by zero encountered in true_divide\n",
      "  B = -1/X\n"
     ]
    }
   ],
   "source": [
    "nodes = 6\n",
    "gens = 2\n",
    "\n",
    "gens_on_nodes = [0, 4]\n",
    "\n",
    "\n",
    "fs = [lambda x : 0 for _ in range(nodes)]\n",
    "fs[0] = lambda x: 0.67 * x[1] ** 2 + 26.24 * x[1] + 31.67\n",
    "fs[4] = lambda x: 0.11 * x[1] ** 2 + 12.89 * x[1] + 6.78\n",
    "\n",
    "\n",
    "dfs = [lambda x : np.zeros(len(x)) for _ in range(nodes)]\n",
    "dfs[0] = lambda x: np.array([0, 2 * 0.67 * x[1] + 26.24])\n",
    "dfs[4] = lambda x: np.array([0, 2 * 0.11 * x[1] + 12.89])\n",
    "\n",
    "X = np.zeros((nodes, nodes))\n",
    "X[0][1] = 0.6\n",
    "X[0][2] = 0.6\n",
    "X[1][3] = 0.1\n",
    "X[2][4] = 0.1\n",
    "X[3][4] = 0.1\n",
    "X[0][5] = 0.1\n",
    "X += X.T\n",
    "\n",
    "\n",
    "B = -1/X\n",
    "\n",
    "gens_bounds = [[20, 50], [200, 200]]\n",
    "bounds_x = np.hstack(([[None]*nodes, [None]*nodes], gens_bounds))\n",
    "\n",
    "np.nan_to_num(B, False, 0, 0, 0)\n",
    "\n",
    "\n",
    "B = np.diag(B.sum(axis=0)) - B  # admittance matrix\n",
    "print('B', np.round(B))\n",
    "\n",
    "G = np.zeros((nodes, gens))  # G_ij == 1 => gen # j on i'th node\n",
    "gen_index = 0 \n",
    "for i in gens_on_nodes:\n",
    "    G[i][gen_index] = 1\n",
    "    gen_index += 1\n",
    "        \n",
    "# G[0][0] = 1\n",
    "# G[4][1] = 1\n",
    "\n",
    "demand = np.zeros(nodes) # power demand\n",
    "demand[2] = demand[3] = 150\n",
    "demand[5] = 10\n",
    "\n",
    "Flows = [] \n",
    "for i in range(nodes):\n",
    "    for j in range(i):\n",
    "        if B[i][j] != 0:\n",
    "            Flows.append([0] * nodes)\n",
    "            Flows[-1][i] = -B[i][j]\n",
    "            Flows[-1][j] = B[i][j]\n",
    "            \n",
    "\n",
    "Flows = np.array(Flows)           \n",
    "           \n",
    "print(Flows.shape)\n",
    "print('Flows', np.round(Flows))\n",
    "\n",
    "# matrix for | (\\teta_i - \\teta_j) / X_ij | \\leq F^max_ij constraint           \n",
    "F = np.hstack((Flows, np.zeros((Flows.shape[0], gens))))\n",
    "\n",
    "fmax = np.array([150] * F.shape[0])  # max flow\n",
    "\n",
    "# subsystems flows bounds:\n",
    "# case-2 partition\n",
    "\n",
    "\n",
    "# Extended Laplacian:\n",
    "print('W0 (for 1D varible)', W0)\n",
    "            \n",
    "def f(x):\n",
    "    p1, p2 = x[-gens:]\n",
    "    return 0.67 * p1 ** 2 + 26.24 * p1 + 31.67 + 0.11 * p2 ** 2 + 12.89 * p2 + 6.78\n",
    "\n",
    "def df(x):\n",
    "    p1, p2 = x[-gens:]\n",
    "    return [0]* nodes + [2 * 0.67 * p1 + 26.24, 2 * 0.11 * p2 + 12.89]\n",
    "\n",
    "# As = "
   ]
  },
  {
   "cell_type": "code",
   "execution_count": null,
   "id": "76455593",
   "metadata": {},
   "outputs": [],
   "source": []
  },
  {
   "cell_type": "code",
   "execution_count": 21,
   "id": "2ff62916",
   "metadata": {},
   "outputs": [],
   "source": [
    "BG = np.hstack((B, -G)) # matrix for dc-power flow constraint\n",
    "A = BG\n",
    "b = -demand\n",
    "\n",
    "C = np.vstack((F, -F))\n",
    "d = np.hstack((fmax, fmax))\n",
    "\n",
    "AC = np.vstack((A, C))\n",
    "bd = np.hstack((b, d))\n",
    "\n"
   ]
  },
  {
   "cell_type": "code",
   "execution_count": 22,
   "id": "7b94c602",
   "metadata": {},
   "outputs": [
    {
     "name": "stdout",
     "output_type": "stream",
     "text": [
      "[-19.36836265   8.68399862  12.68399862  13.35553689   3.02220355\n",
      " -18.37737502 110.01438956 200.        ]\n",
      "[173.77851014 173.57253673 173.57253673 173.55326105 173.55326105\n",
      " 173.8173633    0.           0.           0.           0.\n",
      "   0.           0.           0.           0.           0.\n",
      "   0.           0.           0.        ]\n",
      "grads\n"
     ]
    },
    {
     "data": {
      "text/plain": [
       "array([[   0.,   -0., -150., -150.,   -0.,  -10.],\n",
       "       [   0.,    0.,  150.,  150.,    0.,   10.]])"
      ]
     },
     "execution_count": 22,
     "metadata": {},
     "output_type": "execute_result"
    }
   ],
   "source": [
    "# Ax - b constraint, BG - equality-type, F - inequaltiy-type\n",
    "# A = np.vstack((BG, F, -F)) \n",
    "# b = np.hstack((-demand, fmax, fmax))\n",
    "\n",
    "\n",
    "x_dim = nodes + gens\n",
    "# x0 = np.array([0] * nodes + [100, 100] )\n",
    "\n",
    "x = np.zeros(x_dim)\n",
    "num_cons = AC.shape[0]\n",
    "y = np.zeros(num_cons)\n",
    "W = np.kron(W0, np.diag(np.ones(y.size)))\n",
    "\n",
    "z = np.zeros(np.shape(blowed_y))\n",
    "\n",
    "h = 0.015\n",
    "\n",
    "xs = []\n",
    "x_s = []\n",
    "\n",
    "bounds_y = [[None]*BG.shape[0] + [0] * (2 * F.shape[0]), [None]*AC.shape[0]]\n",
    "\n",
    "def dLx(x, y):\n",
    "    return df(x) + AC.T @ y\n",
    "\n",
    "def dLy(x, y):\n",
    "    return AC @ x - bd\n",
    "                     \n",
    "# def dLz(y, z):\n",
    "#     return W @ y\n",
    "    \n",
    "\n",
    "def proj(x, bounds):\n",
    "    a_min = [-np.inf if x is None else x for x in bounds[0]]\n",
    "    a_max = [np.inf if x is None else x for x in bounds[1]]\n",
    "    return np.clip(x, a_min, a_max)\n",
    "    \n",
    "def proj_x(x):\n",
    "    return proj(x, bounds_x)\n",
    "\n",
    "def proj_y(x):\n",
    "    return proj(x, bounds_y)\n",
    "\n",
    "\n",
    "\n",
    "# while not crit(x):\n",
    "#     while not x_s or not np.allclose(sum(x_s)/ len(x_s), a0):\n",
    "fs_log = []\n",
    "fs_log_erg = []\n",
    "cons = []\n",
    "cons_erg = []\n",
    "x_ergs = []\n",
    "for k in range(5000):\n",
    "    x_ = proj_x(x - h * dLx(x, y))\n",
    "    x_s.append(x_)\n",
    "    y_ = proj_y(y + h * dLy(x, y))\n",
    "    \n",
    "    \n",
    "    x_ergs.append(x_ergs[-1] + x_ if k > 0 else x_)\n",
    "    \n",
    "    x = proj_x(x - h * dLx(x_, y_))\n",
    "    y = proj_y(y + h * dLy(x_, y_))\n",
    "    \n",
    "    \n",
    "    fs_log.append(f(x))\n",
    "    x_erg = x_ergs[-1] / (k + 1)\n",
    "    fs_log_erg.append(f(x_erg))\n",
    "    cons.append(np.linalg.norm(np.hstack((A@ x - b, np.clip(C@x - d, 0, None)))))\n",
    "    cons_erg.append(np.linalg.norm(np.hstack((A@ x_erg - b, np.clip(C@x_erg - d, 0, None)))))\n",
    "    \n",
    "    xs += [x]\n",
    "\n",
    "    i += 1\n",
    "#         print(sum(x_s) / len(x_s), x)\n",
    "# print('iters:', i)\n",
    "print(x, y, sep='\\n')\n",
    "print('grads')\n",
    "# print(dLx(x,y), dLy(x,y), sep='\\n')\n",
    "# return i, x, y, z\n",
    "\n",
    "np.array([np.round(BG @ x) , demand])"
   ]
  },
  {
   "cell_type": "code",
   "execution_count": 23,
   "id": "27587794",
   "metadata": {},
   "outputs": [
    {
     "data": {
      "text/plain": [
       "[<matplotlib.lines.Line2D at 0x7fc4bfac5b40>]"
      ]
     },
     "execution_count": 23,
     "metadata": {},
     "output_type": "execute_result"
    },
    {
     "data": {
      "image/png": "[encoded data removed]",
      "text/plain": [
       "<Figure size 432x288 with 1 Axes>"
      ]
     },
     "metadata": {
      "needs_background": "light"
     },
     "output_type": "display_data"
    }
   ],
   "source": [
    "plt.plot(cons)\n",
    "plt.plot(cons_erg, label='erg')\n",
    "# plt.xlim(4000, None)\n",
    "# plt.ylim(0, 10)"
   ]
  },
  {
   "cell_type": "code",
   "execution_count": 24,
   "id": "76336377",
   "metadata": {},
   "outputs": [
    {
     "data": {
      "text/plain": [
       "<matplotlib.legend.Legend at 0x7fc4bfac5780>"
      ]
     },
     "execution_count": 24,
     "metadata": {},
     "output_type": "execute_result"
    },
    {
     "data": {
      "image/png": "[encoded data removed]",
      "text/plain": [
       "<Figure size 432x288 with 1 Axes>"
      ]
     },
     "metadata": {
      "needs_background": "light"
     },
     "output_type": "display_data"
    }
   ],
   "source": [
    "plt.plot(fs_log)\n",
    "plt.plot(fs_log_erg, label='erg')\n",
    "plt.legend()\n"
   ]
  },
  {
   "cell_type": "code",
   "execution_count": 25,
   "id": "57673e1c",
   "metadata": {},
   "outputs": [
    {
     "ename": "NameError",
     "evalue": "name 'D' is not defined",
     "output_type": "error",
     "traceback": [
      "\u001b[0;31m---------------------------------------------------------------------------\u001b[0m",
      "\u001b[0;31mNameError\u001b[0m                                 Traceback (most recent call last)",
      "\u001b[0;32m/tmp/ipykernel_111015/3592568006.py\u001b[0m in \u001b[0;36m<module>\u001b[0;34m\u001b[0m\n\u001b[1;32m      5\u001b[0m \u001b[0;34m\u001b[0m\u001b[0m\n\u001b[1;32m      6\u001b[0m \u001b[0mBG\u001b[0m \u001b[0;34m=\u001b[0m \u001b[0mnp\u001b[0m\u001b[0;34m.\u001b[0m\u001b[0mhstack\u001b[0m\u001b[0;34m(\u001b[0m\u001b[0;34m(\u001b[0m\u001b[0mB\u001b[0m\u001b[0;34m,\u001b[0m \u001b[0;34m-\u001b[0m\u001b[0mG\u001b[0m\u001b[0;34m)\u001b[0m\u001b[0;34m)\u001b[0m\u001b[0;34m\u001b[0m\u001b[0;34m\u001b[0m\u001b[0m\n\u001b[0;32m----> 7\u001b[0;31m \u001b[0mdc_pf_constraint\u001b[0m \u001b[0;34m=\u001b[0m \u001b[0mLinearConstraint\u001b[0m\u001b[0;34m(\u001b[0m\u001b[0mBG\u001b[0m\u001b[0;34m,\u001b[0m \u001b[0;34m-\u001b[0m\u001b[0mD\u001b[0m\u001b[0;34m,\u001b[0m \u001b[0;34m-\u001b[0m\u001b[0mD\u001b[0m\u001b[0;34m)\u001b[0m\u001b[0;34m\u001b[0m\u001b[0;34m\u001b[0m\u001b[0m\n\u001b[0m\u001b[1;32m      8\u001b[0m \u001b[0mflow_constraint\u001b[0m \u001b[0;34m=\u001b[0m \u001b[0mLinearConstraint\u001b[0m\u001b[0;34m(\u001b[0m\u001b[0mF\u001b[0m\u001b[0;34m,\u001b[0m \u001b[0;34m-\u001b[0m\u001b[0mfmax\u001b[0m\u001b[0;34m,\u001b[0m \u001b[0mfmax\u001b[0m\u001b[0;34m)\u001b[0m\u001b[0;34m\u001b[0m\u001b[0;34m\u001b[0m\u001b[0m\n\u001b[1;32m      9\u001b[0m \u001b[0;34m\u001b[0m\u001b[0m\n",
      "\u001b[0;31mNameError\u001b[0m: name 'D' is not defined"
     ]
    }
   ],
   "source": [
    "from scipy.optimize import minimize, LinearConstraint, Bounds\n",
    "x_dim = nodes + gens\n",
    "bounds = Bounds([-np.pi * 20]*nodes + [20, 50], [np.pi * 20]*nodes + [200, 200])\n",
    "x0 = np.array([0] * nodes + [100, 100] )\n",
    "\n",
    "BG = np.hstack((B, -G))\n",
    "dc_pf_constraint = LinearConstraint(BG, -D, -D) \n",
    "flow_constraint = LinearConstraint(F, -fmax, fmax) \n",
    "\n",
    "e1 = np.zeros(x_dim)\n",
    "e1[0] = 1\n",
    "teta_ref_constraint = LinearConstraint(e1, [0], [0]) \n",
    "res = minimize(f, x0, method='trust-constr', jac=df,\n",
    "               constraints=[dc_pf_constraint, flow_constraint, teta_ref_constraint],\n",
    "#                constraints=[flow_constraint],\n",
    "               options={'verbose': 1, 'maxiter': 100}, bounds=bounds)"
   ]
  },
  {
   "cell_type": "code",
   "execution_count": null,
   "id": "31675dac",
   "metadata": {},
   "outputs": [],
   "source": [
    "res"
   ]
  },
  {
   "cell_type": "code",
   "execution_count": null,
   "id": "db5069bd",
   "metadata": {},
   "outputs": [],
   "source": [
    "np.array([np.round(BG @ res.x) , D])"
   ]
  },
  {
   "cell_type": "code",
   "execution_count": null,
   "id": "dc7f86ec",
   "metadata": {},
   "outputs": [],
   "source": [
    "dc_pf_constraint = {'type': 'eq', 'fun':lambda x : BG @ x + D, 'jac': lambda x:BG}\n",
    "teta_ref_constraint = {'type': 'eq', 'fun':lambda x : e1 @ x, 'jac': lambda x:e1}\n",
    "res = minimize(f, x0, method='SLSQP', jac=df,\n",
    "               constraints=[dc_pf_constraint],\n",
    "#                constraints=[flow_constraint],\n",
    "                bounds=bounds)\n",
    "\n"
   ]
  },
  {
   "cell_type": "code",
   "execution_count": null,
   "id": "92a176e8",
   "metadata": {},
   "outputs": [],
   "source": [
    "res"
   ]
  },
  {
   "cell_type": "code",
   "execution_count": null,
   "id": "01d2199f",
   "metadata": {},
   "outputs": [],
   "source": [
    "np.array([np.round(BG @ res.x) , D])"
   ]
  },
  {
   "cell_type": "code",
   "execution_count": null,
   "id": "b45280a7",
   "metadata": {},
   "outputs": [],
   "source": [
    "np.round(BG[:,:].sum(axis=0)) , -D.sum()"
   ]
  },
  {
   "cell_type": "code",
   "execution_count": null,
   "id": "0e19e3f9",
   "metadata": {},
   "outputs": [],
   "source": [
    "np.diag(X.sum(axis=1))"
   ]
  }
 ],
 "metadata": {
  "kernelspec": {
   "display_name": "Python 3 (ipykernel)",
   "language": "python",
   "name": "python3"
  },
  "language_info": {
   "codemirror_mode": {
    "name": "ipython",
    "version": 3
   },
   "file_extension": ".py",
   "mimetype": "text/x-python",
   "name": "python",
   "nbconvert_exporter": "python",
   "pygments_lexer": "ipython3",
   "version": "3.10.2"
  }
 },
 "nbformat": 4,
 "nbformat_minor": 5
}
